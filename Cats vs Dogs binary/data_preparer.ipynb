{
 "cells": [
  {
   "cell_type": "code",
   "execution_count": 1,
   "metadata": {
    "collapsed": true
   },
   "outputs": [],
   "source": [
    "import numpy as np\n",
    "from os.path import join\n",
    "import os\n",
    "from random import shuffle\n",
    "from shutil import copy2"
   ]
  },
  {
   "cell_type": "code",
   "execution_count": 2,
   "metadata": {},
   "outputs": [
    {
     "ename": "FileExistsError",
     "evalue": "[Errno 17] File exists: '/home/prd/Development/projects/tensorflow/Dogs vs Cats/data/train/dog'",
     "output_type": "error",
     "traceback": [
      "\u001b[0;31m---------------------------------------------------------------------------\u001b[0m",
      "\u001b[0;31mFileExistsError\u001b[0m                           Traceback (most recent call last)",
      "\u001b[0;32m<ipython-input-2-34217ebc9523>\u001b[0m in \u001b[0;36m<module>\u001b[0;34m()\u001b[0m\n\u001b[1;32m      4\u001b[0m \u001b[0mtrain_dir\u001b[0m \u001b[0;34m=\u001b[0m \u001b[0mjoin\u001b[0m\u001b[0;34m(\u001b[0m\u001b[0mdata_dir\u001b[0m\u001b[0;34m,\u001b[0m \u001b[0;34m'train'\u001b[0m\u001b[0;34m)\u001b[0m\u001b[0;34m\u001b[0m\u001b[0m\n\u001b[1;32m      5\u001b[0m \u001b[0mdog_train_dir\u001b[0m \u001b[0;34m=\u001b[0m \u001b[0mjoin\u001b[0m\u001b[0;34m(\u001b[0m\u001b[0mtrain_dir\u001b[0m\u001b[0;34m,\u001b[0m \u001b[0;34m'dog'\u001b[0m\u001b[0;34m)\u001b[0m\u001b[0;34m\u001b[0m\u001b[0m\n\u001b[0;32m----> 6\u001b[0;31m \u001b[0mos\u001b[0m\u001b[0;34m.\u001b[0m\u001b[0mmkdir\u001b[0m\u001b[0;34m(\u001b[0m\u001b[0mdog_train_dir\u001b[0m\u001b[0;34m)\u001b[0m\u001b[0;34m\u001b[0m\u001b[0m\n\u001b[0m\u001b[1;32m      7\u001b[0m \u001b[0;34m\u001b[0m\u001b[0m\n\u001b[1;32m      8\u001b[0m \u001b[0mcat_train_dir\u001b[0m \u001b[0;34m=\u001b[0m \u001b[0mjoin\u001b[0m\u001b[0;34m(\u001b[0m\u001b[0mtrain_dir\u001b[0m\u001b[0;34m,\u001b[0m \u001b[0;34m'cat'\u001b[0m\u001b[0;34m)\u001b[0m\u001b[0;34m\u001b[0m\u001b[0m\n",
      "\u001b[0;31mFileExistsError\u001b[0m: [Errno 17] File exists: '/home/prd/Development/projects/tensorflow/Dogs vs Cats/data/train/dog'"
     ]
    }
   ],
   "source": [
    "\n",
    "# prepare train cat and dog folder\n",
    "data_dir = join(os.getcwd(), 'data')\n",
    "train_dir = join(data_dir, 'train')\n",
    "dog_train_dir = join(train_dir, 'dog')\n",
    "os.mkdir(dog_train_dir)\n",
    "\n",
    "cat_train_dir = join(train_dir, 'cat')\n",
    "os.mkdir(cat_train_dir)\n",
    "\n",
    "for file in os.listdir(train_dir):\n",
    "    if file.endswith('.jpg'):\n",
    "        if file.startswith('cat'):\n",
    "            os.rename(join(train_dir, file), join(cat_train_dir, file))\n",
    "        elif file.startswith('dog'):\n",
    "            os.rename(join(train_dir, file), join(dog_train_dir, file))"
   ]
  },
  {
   "cell_type": "code",
   "execution_count": 3,
   "metadata": {},
   "outputs": [
    {
     "ename": "Exception",
     "evalue": "Valid folders are not empty!",
     "output_type": "error",
     "traceback": [
      "\u001b[0;31m---------------------------------------------------------------------------\u001b[0m",
      "\u001b[0;31mException\u001b[0m                                 Traceback (most recent call last)",
      "\u001b[0;32m<ipython-input-3-cfb707b4067e>\u001b[0m in \u001b[0;36m<module>\u001b[0;34m()\u001b[0m\n\u001b[1;32m      7\u001b[0m \u001b[0;34m\u001b[0m\u001b[0m\n\u001b[1;32m      8\u001b[0m \u001b[0;32mif\u001b[0m \u001b[0mlen\u001b[0m\u001b[0;34m(\u001b[0m\u001b[0mos\u001b[0m\u001b[0;34m.\u001b[0m\u001b[0mlistdir\u001b[0m\u001b[0;34m(\u001b[0m\u001b[0mdog_valid_dir\u001b[0m\u001b[0;34m)\u001b[0m\u001b[0;34m)\u001b[0m \u001b[0;34m>\u001b[0m \u001b[0;36m0\u001b[0m \u001b[0;32mor\u001b[0m \u001b[0mlen\u001b[0m\u001b[0;34m(\u001b[0m\u001b[0mos\u001b[0m\u001b[0;34m.\u001b[0m\u001b[0mlistdir\u001b[0m\u001b[0;34m(\u001b[0m\u001b[0mcat_valid_dir\u001b[0m\u001b[0;34m)\u001b[0m\u001b[0;34m)\u001b[0m \u001b[0;34m>\u001b[0m \u001b[0;36m0\u001b[0m\u001b[0;34m:\u001b[0m\u001b[0;34m\u001b[0m\u001b[0m\n\u001b[0;32m----> 9\u001b[0;31m     \u001b[0;32mraise\u001b[0m \u001b[0mException\u001b[0m\u001b[0;34m(\u001b[0m\u001b[0;34m'Valid folders are not empty!'\u001b[0m\u001b[0;34m)\u001b[0m\u001b[0;34m\u001b[0m\u001b[0m\n\u001b[0m\u001b[1;32m     10\u001b[0m \u001b[0;34m\u001b[0m\u001b[0m\n\u001b[1;32m     11\u001b[0m \u001b[0mtrain_dogs\u001b[0m \u001b[0;34m=\u001b[0m \u001b[0mos\u001b[0m\u001b[0;34m.\u001b[0m\u001b[0mlistdir\u001b[0m\u001b[0;34m(\u001b[0m\u001b[0mdog_train_dir\u001b[0m\u001b[0;34m)\u001b[0m\u001b[0;34m\u001b[0m\u001b[0m\n",
      "\u001b[0;31mException\u001b[0m: Valid folders are not empty!"
     ]
    }
   ],
   "source": [
    "#move 1000 validation cat and dog files to valid directory, if its not yet filled\n",
    "\n",
    "dog_train_dir = join(os.getcwd(), *['data', 'train', 'dog'])\n",
    "cat_trian_dir = join(os.getcwd(), *['data', 'train', 'cat'])\n",
    "dog_valid_dir = join(os.getcwd(), *['data', 'valid', 'dog'])\n",
    "cat_valid_dir = join(os.getcwd(), *['data', 'valid', 'cat'])\n",
    "\n",
    "if len(os.listdir(dog_valid_dir)) > 0 or len(os.listdir(cat_valid_dir)) > 0:\n",
    "    raise Exception('Valid folders are not empty!')\n",
    "    \n",
    "train_dogs = os.listdir(dog_train_dir)\n",
    "train_cats = os.listdir(cat_train_dir)\n",
    "\n",
    "shuffle(train_dogs)\n",
    "shuffle(train_cats)\n",
    "\n",
    "valid_dogs = train_dogs[:1000]\n",
    "valid_cats = train_cats[:1000]\n",
    "\n",
    "for dog in valid_dogs:\n",
    "    os.rename(join(dog_train_dir, dog), join(dog_valid_dir, dog))\n",
    "for cat in valid_cats:\n",
    "    os.rename(join(cat_train_dir, cat), join(cat_valid_dir, cat))\n"
   ]
  },
  {
   "cell_type": "code",
   "execution_count": null,
   "metadata": {},
   "outputs": [],
   "source": [
    "#prepare playground folder\n",
    "\n",
    "def copy_random_sample(base_dir, target_dir, sample_size):\n",
    "    if len(os.listdir(target_dir)) > 0:\n",
    "        raise Exception('target dir is not empty')\n",
    "    files = os.listdir(base_dir)\n",
    "    shuffle(files)\n",
    "    for file in files[:sample_size]:\n",
    "        copy2(join(base_dir, file), join(target_dir, file))\n",
    "        \n",
    "# data_dir = join(os.getcwd(), 'data')\n",
    "# playground_dir = join(data_dir, 'playground')\n",
    "\n",
    "# copy_random_sample(join(data_dir, 'test'), join(playground_dir, 'test'), 50)\n",
    "# copy_random_sample(join(data_dir, *['train', 'dog']), join(playground_dir, *['train', 'dog']), 100)\n",
    "# copy_random_sample(join(data_dir, *['train', 'cat']), join(playground_dir, *['train', 'cat']), 100)\n",
    "# copy_random_sample(join(data_dir, *['valid', 'dog']), join(playground_dir, *['valid', 'dog']), 10)\n",
    "# copy_random_sample(join(data_dir, *['valid', 'cat']), join(playground_dir, *['valid', 'cat']), 10)\n",
    "# copy_random_sample(join(data_dir, 'test'), join(playground_dir, 'test'), 50)\n"
   ]
  },
  {
   "cell_type": "code",
   "execution_count": 5,
   "metadata": {},
   "outputs": [],
   "source": [
    "def check_train_dirs(data_dir):\n",
    "    dog_dir = join(data_dir, *['train','dog'])\n",
    "    cat_dir = join(data_dir, *['train', 'cat'])\n",
    "    dogs = os.listdir(dog_dir)\n",
    "    cats = os.listdir(cat_dir)\n",
    "    if not dogs or not cats:\n",
    "        raise Exception('One of dirs is empty')\n",
    "    for dog in dogs:\n",
    "        if not dog.startswith('dog'):\n",
    "            raise Exception('One of dogs is not a dog!')\n",
    "    for cat in cats:\n",
    "        if not cat.startswith('cat'):\n",
    "            raise Exception('One of cats is not a cat!')\n",
    "check_train_dirs(join(os.getcwd(), 'data'))\n",
    "# check_train_dirs(join(os.getcwd(), *['data', 'playground']))"
   ]
  }
 ],
 "metadata": {
  "kernelspec": {
   "display_name": "tensorflow",
   "language": "python",
   "name": "tensorflow"
  },
  "language_info": {
   "codemirror_mode": {
    "name": "ipython",
    "version": 3
   },
   "file_extension": ".py",
   "mimetype": "text/x-python",
   "name": "python",
   "nbconvert_exporter": "python",
   "pygments_lexer": "ipython3",
   "version": "3.5.2"
  }
 },
 "nbformat": 4,
 "nbformat_minor": 2
}
