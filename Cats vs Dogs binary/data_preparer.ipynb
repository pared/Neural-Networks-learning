{
 "cells": [
  {
   "cell_type": "code",
   "execution_count": null,
   "metadata": {
    "collapsed": true
   },
   "outputs": [],
   "source": [
    "import numpy as np\n",
    "from os.path import join\n",
    "import os\n",
    "from random import shuffle\n",
    "from shutil import copy2"
   ]
  },
  {
   "cell_type": "code",
   "execution_count": null,
   "metadata": {},
   "outputs": [],
   "source": [
    "\n",
    "# prepare train cat and dog folder\n",
    "data_dir = join(os.getcwd(), 'data')\n",
    "train_dir = join(data_dir, 'train')\n",
    "dog_train_dir = join(train_dir, 'dog')\n",
    "os.mkdir(dog_train_dir)\n",
    "\n",
    "cat_train_dir = join(train_dir, 'cat')\n",
    "os.mkdir(cat_train_dir)\n",
    "\n",
    "for file in os.listdir(train_dir):\n",
    "    if file.endswith('.jpg'):\n",
    "        if file.startswith('cat'):\n",
    "            os.rename(join(train_dir, file), join(cat_train_dir, file))\n",
    "        elif file.startswith('dog'):\n",
    "            os.rename(join(train_dir, file), join(dog_train_dir, file))"
   ]
  },
  {
   "cell_type": "code",
   "execution_count": null,
   "metadata": {},
   "outputs": [],
   "source": [
    "#move 1000 validation cat and dog files to valid directory, if its not yet filled\n",
    "\n",
    "dog_train_dir = join(os.getcwd(), *['data', 'train', 'dog'])\n",
    "cat_trian_dir = join(os.getcwd(), *['data', 'train', 'cat'])\n",
    "dog_valid_dir = join(os.getcwd(), *['data', 'valid', 'dog'])\n",
    "cat_valid_dir = join(os.getcwd(), *['data', 'valid', 'cat'])\n",
    "\n",
    "if len(os.listdir(dog_valid_dir)) > 0 or len(os.listdir(cat_valid_dir)) > 0:\n",
    "    raise Exception('Valid folders are not empty!')\n",
    "    \n",
    "train_dogs = os.listdir(dog_train_dir)\n",
    "train_cats = os.listdir(cat_train_dir)\n",
    "\n",
    "shuffle(train_dogs)\n",
    "shuffle(train_cats)\n",
    "\n",
    "valid_dogs = train_dogs[:1000]\n",
    "valid_cats = train_cats[:1000]\n",
    "\n",
    "for dog in valid_dogs:\n",
    "    os.rename(join(dog_train_dir, dog), join(dog_valid_dir, dog))\n",
    "for cat in valid_cats:\n",
    "    os.rename(join(cat_train_dir, cat), join(cat_valid_dir, cat))\n"
   ]
  },
  {
   "cell_type": "code",
   "execution_count": null,
   "metadata": {},
   "outputs": [],
   "source": [
    "#prepare playground folder\n",
    "\n",
    "def copy_random_sample(base_dir, target_dir, sample_size):\n",
    "    if len(os.listdir(target_dir)) > 0:\n",
    "        raise Exception('target dir is not empty')\n",
    "    files = os.listdir(base_dir)\n",
    "    shuffle(files)\n",
    "    for file in files[:sample_size]:\n",
    "        copy2(join(base_dir, file), join(target_dir, file))\n",
    "        \n",
    "# data_dir = join(os.getcwd(), 'data')\n",
    "# playground_dir = join(data_dir, 'playground')\n",
    "\n",
    "# copy_random_sample(join(data_dir, 'test'), join(playground_dir, 'test'), 50)\n",
    "# copy_random_sample(join(data_dir, *['train', 'dog']), join(playground_dir, *['train', 'dog']), 100)\n",
    "# copy_random_sample(join(data_dir, *['train', 'cat']), join(playground_dir, *['train', 'cat']), 100)\n",
    "# copy_random_sample(join(data_dir, *['valid', 'dog']), join(playground_dir, *['valid', 'dog']), 10)\n",
    "# copy_random_sample(join(data_dir, *['valid', 'cat']), join(playground_dir, *['valid', 'cat']), 10)\n",
    "# copy_random_sample(join(data_dir, 'test'), join(playground_dir, 'test'), 50)\n"
   ]
  },
  {
   "cell_type": "code",
   "execution_count": null,
   "metadata": {},
   "outputs": [],
   "source": [
    "def check_train_dirs(data_dir):\n",
    "    dog_dir = join(data_dir, *['train','dog'])\n",
    "    cat_dir = join(data_dir, *['train', 'cat'])\n",
    "    dogs = os.listdir(dog_dir)\n",
    "    cats = os.listdir(cat_dir)\n",
    "    if not dogs or not cats:\n",
    "        raise Exception('One of dirs is empty')\n",
    "    for dog in dogs:\n",
    "        if not dog.startswith('dog'):\n",
    "            raise Exception('One of dogs is not a dog!')\n",
    "    for cat in cats:\n",
    "        if not cat.startswith('cat'):\n",
    "            raise Exception('One of cats is not a cat!')\n",
    "check_train_dirs(join(os.getcwd(), 'data'))\n",
    "# check_train_dirs(join(os.getcwd(), *['data', 'playground']))"
   ]
  }
 ],
 "metadata": {
  "kernelspec": {
   "display_name": "tensorflow",
   "language": "python",
   "name": "tensorflow"
  },
  "language_info": {
   "codemirror_mode": {
    "name": "ipython",
    "version": 3
   },
   "file_extension": ".py",
   "mimetype": "text/x-python",
   "name": "python",
   "nbconvert_exporter": "python",
   "pygments_lexer": "ipython3",
   "version": "3.5.2"
  }
 },
 "nbformat": 4,
 "nbformat_minor": 2
}
