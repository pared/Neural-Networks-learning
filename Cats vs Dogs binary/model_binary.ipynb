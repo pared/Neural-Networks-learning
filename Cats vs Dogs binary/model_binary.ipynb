{
 "cells": [
  {
   "cell_type": "code",
   "execution_count": null,
   "metadata": {},
   "outputs": [],
   "source": [
    "#machine learning script, basing on VGG16 \n",
    "import os\n",
    "from os.path import join\n",
    "from keras.applications.vgg16 import VGG16\n",
    "from keras.preprocessing.image import ImageDataGenerator\n",
    "from keras.layers.core import Dense\n",
    "%matplotlib inline\n",
    "import numpy as np\n",
    "import matplotlib.pyplot as plt\n",
    "from keras.utils.data_utils import get_file\n",
    "import json, copy\n",
    "from keras.models import Model\n",
    "from keras.optimizers import Adam\n",
    "from keras import backend\n",
    "import csv"
   ]
  },
  {
   "cell_type": "code",
   "execution_count": null,
   "metadata": {
    "collapsed": true
   },
   "outputs": [],
   "source": [
    "data_path = join(os.getcwd(), *['data', 'playground']"
   ]
  },
  {
   "cell_type": "code",
   "execution_count": null,
   "metadata": {},
   "outputs": [],
   "source": [
    "class BinaryVgg16():\n",
    "    def __init__(self, data_path, target_size=(224, 224)):\n",
    "        self.data_path = data_path\n",
    "        self.train_path = join(data_path, 'train')\n",
    "        self.valid_path = join(data_path, 'valid')\n",
    "        self.test_path = join(data_path, 'test')\n",
    "        \n",
    "        self.target_size = target_size\n",
    "        \n",
    "        self.model = VGG16(weights = 'imagenet')\n",
    "        self.prepare_binary_vgg16()\n",
    "        \n",
    "        self.generator = ImageDataGenerator()\n",
    "        \n",
    "        self.sample_images = None\n",
    "        \n",
    "    def prepare_binary_vgg16(self):\n",
    "        model = VGG16(weights='imagenet')\n",
    "        model.layers.pop()\n",
    "        for layer in model.layers: layer.trainable=False\n",
    "        new_top = Dense(1, activation='sigmoid')(model.layers[-1].output)\n",
    "        new_model = Model(model.input, new_top)\n",
    "        new_model.compile(optimizer=Adam(lr=0.001),loss='binary_crossentropy', metrics=['accuracy'])\n",
    "        self.new_model = new_model\n",
    "    \n",
    "    def generate_images(self, path, shuffle, class_mode, batch_size):\n",
    "        return self.generator.flow_from_directory(path, shuffle = shuffle, class_mode = class_mode, batch_size = batch_size, target_size = self.target_size)\n",
    "    \n",
    "        \n",
    "    def show_validation_images(self, img_nbr=4):\n",
    "        self.prepare_sample_images(img_nbr)\n",
    "        plots(self.sample_images, titles=self.sample_titles, figtitle='Validation images with original class')\n",
    "        \n",
    "    def prepare_sample_images(self, imgs_num=4):\n",
    "        if self.sample_images is not None and len(self.sample_images) is imgs_num:\n",
    "            return\n",
    "        generator  = self.generate_images(self.valid_path, shuffle=True, class_mode='binary', batch_size=imgs_num)\n",
    "        self.sample_images, self.sample_titles = next(generator)\n",
    "        \n",
    "    def show_sample_predictions_by_original_model(self, img_nbr=4):\n",
    "        self.prepare_sample_images(img_nbr)\n",
    "        predictions = self.model.predict(self.sample_images)\n",
    "        plot_with_most_probable_classes(self.sample_images, predictions, get_classes(), 3, 'Sample predictions by original model')\n",
    "        \n",
    "    def show_sample_predictions(self, img_nbr=4):\n",
    "        self.prepare_sample_images(img_nbr)\n",
    "        predictions = self.new_model.predict(self.sample_images)\n",
    "        plots(self.sample_images, titles = [str(p[0]) for p in predictions], figtitle='Predictions by new model')\n",
    "        \n",
    "    def fit(self, batch_size, epochs = 1):\n",
    "        train_batches = self.generate_images(self.train_path, shuffle=True, class_mode='binary', batch_size=batch_size)\n",
    "        valid_batches = self.generate_images(self.valid_path, shuffle=True, class_mode='binary', batch_size=batch_size)\n",
    "        self.new_model.fit_generator(train_batches,\n",
    "                             steps_per_epoch=train_batches.samples/batch_size,\n",
    "                             validation_data  = valid_batches,\n",
    "                             validation_steps = valid_batches.samples/batch_size,\n",
    "                              nb_epoch = epochs\n",
    "                            )\n",
    "    def add_to_misjudged(self, lst, image, original_label, predicted_label, list_max_length = 4):\n",
    "        lst.append((image, original_label, predicted_label))\n",
    "        lst.sort(key=lambda tpl: -abs(tpl[1]-tpl[2]))\n",
    "        if len(lst) > list_max_length:\n",
    "            return lst[:list_max_length]\n",
    "        else:\n",
    "            return lst\n",
    "\n",
    "    def plot_tuples(self, tuples, figtitle = None):\n",
    "        if tuples:\n",
    "            plots([e[0] for e in tuples], titles=['original: '+str(e[1])+'\\npredicted: '+str(e[2]) for e in tuples], figtitle=figtitle)\n",
    "        else:\n",
    "            print('Empty tuples list')\n",
    "    \n",
    "    def show_misjudged_classes(self, img_nbr=4):\n",
    "        batch_size=4\n",
    "        generator = self.generate_images(self.valid_path, shuffle=False, class_mode='binary', batch_size=batch_size)\n",
    "        misjudged_class_0 = []\n",
    "        misjudged_class_1 = []\n",
    "        for i in range(generator.samples//batch_size):\n",
    "            imgs, labels = next(generator)\n",
    "            predictions = [p[0] for p in self.new_model.predict(imgs)]\n",
    "            for i in range(len(labels)):\n",
    "                if abs(labels[i] - predictions[i]) > 0.5:\n",
    "                    if labels[i] == 0.0:\n",
    "                        misjudged_class_0 = self.add_to_misjudged(misjudged_class_0, imgs[i], labels[i], predictions[i], img_nbr)\n",
    "                    elif labels[i] == 1.0:\n",
    "                        misjudged_class_1 = self.add_to_misjudged(misjudged_class_1, imgs[i], labels[i], predictions[i], img_nbr)\n",
    "        self.plot_tuples(misjudged_class_0, figtitle = 'Most misjudged class 0 samples')\n",
    "        self.plot_tuples(misjudged_class_1, figtitle = 'Most misjudged class 1 samples')\n",
    "    \n",
    "    def show_confusing_images(self, img_nbr=4):\n",
    "        batch_size = 4\n",
    "        generator = self.generate_images(self.valid_path, shuffle=False, class_mode='binary', batch_size=batch_size)\n",
    "        confusing_0 = []\n",
    "        confusing_1 = []\n",
    "        for i in range(generator.samples//batch_size):\n",
    "            imgs, labels = next(generator)\n",
    "            predictions = [p[0] for p in self.new_model.predict(imgs)]\n",
    "            for i in range(len(labels)):\n",
    "                if labels[i] == 0.0:\n",
    "                    confusing_0.append((imgs[i], labels[i], predictions[i]))\n",
    "                elif labels[i] == 1.0:\n",
    "                    confusing_1.append((imgs[i], labels[i], predictions[i]))\n",
    "        confusing_0.sort(key=lambda tpl: abs(0.5 - tpl[2]))\n",
    "        confusing_1.sort(key=lambda tpl: abs(0.5 - tpl[2]))\n",
    "        self.plot_tuples(confusing_0[:img_nbr], figtitle = 'Most confusing samples (closest to 0.5) for class 0')\n",
    "        self.plot_tuples(confusing_1[:img_nbr], figtitle = 'Most confusing samples (closest to 0.5) for class 1')\n",
    "        \n",
    "        \n",
    "    def save(self, filepath):\n",
    "        self.new_model.save_weights(filepath)\n",
    "        \n",
    "    def load(self, filepath):\n",
    "        self.new_model.load_weights(filepath)\n",
    "        \n",
    "    def save_test_predictions(self):\n",
    "        batch_size = 1\n",
    "        generator = self.generate_images(self.test_path, shuffle = False, batch_size = batch_size, class_mode=None)\n",
    "        batch_results = self.new_model.predict_generator(generator, steps=generator.samples//batch_size)\n",
    "        results = [elem for result in batch_results for elem in result]\n",
    "        image_ids = [f.split('/')[-1].replace('.jpg','') for f in generator.filenames]\n",
    "        save_results(list(zip(image_ids, trim_predictions(results, 0.025))))\n",
    "     "
   ]
  },
  {
   "cell_type": "code",
   "execution_count": null,
   "metadata": {
    "collapsed": true
   },
   "outputs": [],
   "source": [
    "def plots(ims, figsize=(12,6), rows=1, interp=False, titles=None, figtitle=None):\n",
    "    if type(ims[0]) is np.ndarray:\n",
    "        ims = np.array(ims).astype(np.uint8)\n",
    "        if (ims.shape[-1] != 3):\n",
    "            ims = ims.transpose((0,2,3,1))\n",
    "    f = plt.figure(figsize=figsize)\n",
    "    f.suptitle(figtitle)\n",
    "    cols = len(ims)//rows if len(ims) % 2 == 0 else len(ims)//rows + 1\n",
    "    for i in range(len(ims)):\n",
    "        sp = f.add_subplot(rows, cols, i+1)\n",
    "        sp.axis('Off')\n",
    "        if titles is not None:\n",
    "            sp.set_title(titles[i], fontsize=12)\n",
    "        plt.imshow(ims[i], interpolation=None if interp else 'none')\n",
    "\n",
    "def get_classes():\n",
    "        fname = 'imagenet_class_index.json'\n",
    "        fpath = get_file(fname, join('http://files.fast.ai/models/', fname), cache_subdir='models')\n",
    "        with open(fpath) as f:\n",
    "            class_dict = json.load(f)\n",
    "        return [class_dict[str(i)][1] for i in range(len(class_dict))]\n",
    "    \n",
    "\n",
    "def plot_with_most_probable_classes(images, predictions, classes, k, figtitle = None):\n",
    "    #plots images with titles that are k most probable classes\n",
    "    most_probable_labels  = [[classes[index] + '/' + '{:10.2f}'.format(p[index]) for index in np.argsort(p)[::-1][:k]] for p in predictions]\n",
    "    titles = ['\\n'.join(lst) for lst in most_probable_labels]\n",
    "    plots(images, titles=titles, figtitle=figtitle)\n",
    "    \n",
    "def trim_predictions(predictions, border):\n",
    "    for i in range(len(predictions)):\n",
    "        if predictions[i] > 1 - border:\n",
    "            predictions[i] = 1 - border\n",
    "        elif predictions[i] < border:\n",
    "            predictions[i] = border\n",
    "    return predictions\n",
    "\n",
    "def save_results(id_result_tuples, filename = 'result.csv'):\n",
    "    with open(filename, 'w+') as f:\n",
    "        wr = csv.writer(f)\n",
    "        wr.writerows(id_result_tuples)\n"
   ]
  },
  {
   "cell_type": "code",
   "execution_count": null,
   "metadata": {},
   "outputs": [],
   "source": [
    "model = BinaryVgg16(data_path, (224, 224))"
   ]
  },
  {
   "cell_type": "code",
   "execution_count": null,
   "metadata": {},
   "outputs": [],
   "source": [
    "model.show_validation_images()"
   ]
  },
  {
   "cell_type": "code",
   "execution_count": null,
   "metadata": {},
   "outputs": [],
   "source": [
    "model.show_sample_predictions_by_original_model()"
   ]
  },
  {
   "cell_type": "code",
   "execution_count": null,
   "metadata": {},
   "outputs": [],
   "source": [
    "model.fit(10)"
   ]
  },
  {
   "cell_type": "code",
   "execution_count": null,
   "metadata": {},
   "outputs": [],
   "source": [
    "model.show_sample_predictions()"
   ]
  },
  {
   "cell_type": "code",
   "execution_count": null,
   "metadata": {},
   "outputs": [],
   "source": [
    "model.show_misjudged_classes()"
   ]
  },
  {
   "cell_type": "code",
   "execution_count": null,
   "metadata": {},
   "outputs": [],
   "source": [
    "model.show_confusing_images()"
   ]
  },
  {
   "cell_type": "code",
   "execution_count": null,
   "metadata": {
    "collapsed": true
   },
   "outputs": [],
   "source": [
    "model.save('model_cats_dogs_binary.h5')"
   ]
  },
  {
   "cell_type": "code",
   "execution_count": null,
   "metadata": {},
   "outputs": [],
   "source": [
    "model.save_test_predictions()"
   ]
  }
 ],
 "metadata": {
  "kernelspec": {
   "display_name": "tensorflow",
   "language": "python",
   "name": "tensorflow"
  },
  "language_info": {
   "codemirror_mode": {
    "name": "ipython",
    "version": 3
   },
   "file_extension": ".py",
   "mimetype": "text/x-python",
   "name": "python",
   "nbconvert_exporter": "python",
   "pygments_lexer": "ipython3",
   "version": "3.5.2"
  }
 },
 "nbformat": 4,
 "nbformat_minor": 2
}
